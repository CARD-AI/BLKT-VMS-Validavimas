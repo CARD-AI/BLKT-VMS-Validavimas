{
 "cells": [
  {
   "cell_type": "markdown",
   "id": "f071719c-edea-47ca-8410-b79af13dd123",
   "metadata": {
    "scrolled": true
   },
   "source": [
    "# Fine-tune BERT base model for NER"
   ]
  },
  {
   "cell_type": "code",
   "execution_count": 2,
   "id": "ed48b79c-11f5-4407-9136-e742a83ac4e5",
   "metadata": {
    "scrolled": true
   },
   "outputs": [],
   "source": [
    "import os\n",
    "from datasets import Dataset\n",
    "from transformers import (\n",
    "    AutoTokenizer,\n",
    "    AutoModelForTokenClassification,\n",
    "    DataCollatorForTokenClassification,\n",
    "    TrainingArguments,\n",
    "    Trainer,\n",
    ")\n",
    "import numpy as np\n",
    "from seqeval.metrics import classification_report, accuracy_score, f1_score\n",
    "from collections import defaultdict\n",
    "\n",
    "import seaborn as sns\n",
    "import matplotlib.pyplot as plt"
   ]
  },
  {
   "cell_type": "code",
   "execution_count": 3,
   "id": "0cc1865e-7109-4835-8b1f-edc0d7c83daa",
   "metadata": {},
   "outputs": [
    {
     "name": "stdout",
     "output_type": "stream",
     "text": [
      "Skipping malformed line 528 in ../conll_train/219207_lt.conll: 'O'\n",
      "Skipping malformed line 597 in ../conll_train/219207_lt.conll: 'O'\n",
      "Skipping malformed line 633 in ../conll_train/219207_lt.conll: 'O'\n",
      "Skipping malformed line 664 in ../conll_train/219207_lt.conll: 'O'\n",
      "Skipping malformed line 726 in ../conll_train/219207_lt.conll: 'O'\n",
      "Skipping malformed line 772 in ../conll_train/219207_lt.conll: 'O'\n",
      "Skipping malformed line 153 in ../conll_train/232365_lt.conll: 'O'\n",
      "Skipping malformed line 178 in ../conll_train/236364_lt.conll: 'O'\n",
      "Skipping malformed line 113 in ../conll_train/240051_lt.conll: 'O'\n",
      "Skipping malformed line 153 in ../conll_train/240452_lt.conll: 'O'\n",
      "Skipping malformed line 206 in ../conll_train/243782_lt.conll: 'O'\n",
      "Skipping malformed line 181 in ../conll_train/248092_lt.conll: 'O'\n",
      "Skipping malformed line 281 in ../conll_train/250746_lt.conll: 'O'\n",
      "Skipping malformed line 406 in ../conll_train/253710_lt.conll: 'O'\n",
      "Skipping malformed line 172 in ../conll_train/259843_lt.conll: 'O'\n"
     ]
    }
   ],
   "source": [
    "# model_checkpoint = \"EMBEDDIA/litlat-bert\" # this is the placeholder model which were used before\n",
    "model_checkpoint = \"neurotechnology/BLKT-RoBERTa-MLM-Stage2-Intermediate\"\n",
    "label_list = []\n",
    "output_dir = \"./bert-ner-model\"\n",
    "\n",
    "train_dir = \"../conll_train/\"\n",
    "test_dir = \"../conll_test/\"\n",
    "\n",
    "\n",
    "def read_conll(filepath):\n",
    "    tokens, labels, examples = [], [], []\n",
    "    with open(filepath, \"r\", encoding=\"utf-8\") as f:\n",
    "        for line_num, line in enumerate(f, 1):\n",
    "            line = line.strip()\n",
    "            if not line:\n",
    "                if tokens:\n",
    "                    examples.append({\"tokens\": tokens, \"ner_tags\": labels})\n",
    "                    tokens, labels = [], []\n",
    "            else:\n",
    "                parts = line.split()\n",
    "                if len(parts) != 2:\n",
    "                    print(f\"Skipping malformed line {line_num} in {filepath}: '{line}'\")\n",
    "                    continue\n",
    "                token, tag = parts\n",
    "                tokens.append(token)\n",
    "                labels.append(tag)\n",
    "        if tokens:\n",
    "            examples.append({\"tokens\": tokens, \"ner_tags\": labels})\n",
    "    return examples\n",
    "\n",
    "\n",
    "def load_conll_folder(folder_path):\n",
    "    all_data = []\n",
    "    for filename in os.listdir(folder_path):\n",
    "        if filename.endswith(\".conll\"):\n",
    "            full_path = os.path.join(folder_path, filename)\n",
    "            examples = read_conll(full_path)\n",
    "            all_data.extend(examples)\n",
    "    return all_data\n",
    "\n",
    "\n",
    "train_data = load_conll_folder(train_dir)\n",
    "test_data = load_conll_folder(test_dir)"
   ]
  },
  {
   "cell_type": "code",
   "execution_count": 4,
   "id": "cbe3886e-c2ca-4545-a349-d725336733a2",
   "metadata": {},
   "outputs": [],
   "source": [
    "# Extract label list\n",
    "unique_labels = sorted({label for ex in train_data for label in ex[\"ner_tags\"]})\n",
    "label2id = {l: i for i, l in enumerate(unique_labels)}\n",
    "id2label = {i: l for l, i in label2id.items()}"
   ]
  },
  {
   "cell_type": "code",
   "execution_count": 5,
   "id": "1daeca18-2b1c-4ad9-ba1b-163d175706b9",
   "metadata": {},
   "outputs": [],
   "source": [
    "# Convert string labels to IDs\n",
    "for dataset in (train_data, test_data):\n",
    "    for ex in dataset:\n",
    "        ex[\"labels\"] = [label2id[tag] for tag in ex[\"ner_tags\"]]"
   ]
  },
  {
   "cell_type": "code",
   "execution_count": 6,
   "id": "f78a2162-8f66-4140-9828-efabc6470663",
   "metadata": {},
   "outputs": [],
   "source": [
    "from transformers import AutoTokenizer\n",
    "\n",
    "# Tokenization and Alignment\n",
    "# Put the token using !huggingface-cli login\n",
    "tokenizer = AutoTokenizer.from_pretrained(model_checkpoint)"
   ]
  },
  {
   "cell_type": "code",
   "execution_count": 7,
   "id": "7275eb1d-851b-4c91-838b-9d6af72d1580",
   "metadata": {},
   "outputs": [
    {
     "name": "stderr",
     "output_type": "stream",
     "text": [
      "Map: 100%|██████████| 2503/2503 [00:01<00:00, 2395.92 examples/s]\n",
      "Map: 100%|██████████| 645/645 [00:00<00:00, 2791.02 examples/s]\n"
     ]
    }
   ],
   "source": [
    "def tokenize_and_align(example):\n",
    "    tokenized = tokenizer(example[\"tokens\"], truncation=True, is_split_into_words=True)\n",
    "    labels = []\n",
    "    word_ids = tokenized.word_ids()\n",
    "\n",
    "    previous_word_idx = None\n",
    "    for word_idx in word_ids:\n",
    "        if word_idx is None:\n",
    "            labels.append(-100)\n",
    "        elif word_idx != previous_word_idx:\n",
    "            labels.append(example[\"labels\"][word_idx])\n",
    "        else:\n",
    "            labels.append(-100)\n",
    "        previous_word_idx = word_idx\n",
    "\n",
    "    tokenized[\"labels\"] = labels\n",
    "    return tokenized\n",
    "\n",
    "\n",
    "train_dataset = Dataset.from_list(train_data).map(tokenize_and_align, batched=False)\n",
    "test_dataset = Dataset.from_list(test_data).map(tokenize_and_align, batched=False)"
   ]
  },
  {
   "cell_type": "code",
   "execution_count": 8,
   "id": "5a98c2a5-e853-4b81-a5e5-feef6ade7ff6",
   "metadata": {},
   "outputs": [
    {
     "name": "stderr",
     "output_type": "stream",
     "text": [
      "Some weights of XLMRobertaForTokenClassification were not initialized from the model checkpoint at neurotechnology/BLKT-RoBERTa-MLM-Stage2-Intermediate and are newly initialized: ['classifier.bias', 'classifier.weight']\n",
      "You should probably TRAIN this model on a down-stream task to be able to use it for predictions and inference.\n"
     ]
    }
   ],
   "source": [
    "# Model Setup\n",
    "model = AutoModelForTokenClassification.from_pretrained(\n",
    "    model_checkpoint,\n",
    "    num_labels=len(label2id),\n",
    "    id2label=id2label,\n",
    "    label2id=label2id,\n",
    "    use_safetensors=True,\n",
    ")"
   ]
  },
  {
   "cell_type": "code",
   "execution_count": 9,
   "id": "4214cdc7-87a3-40b3-bb11-41331818192d",
   "metadata": {},
   "outputs": [],
   "source": [
    "from transformers import TrainingArguments\n",
    "\n",
    "# Training Setup\n",
    "args = TrainingArguments(\n",
    "    output_dir=output_dir,\n",
    "    eval_strategy=\"epoch\",\n",
    "    save_strategy=\"epoch\",\n",
    "    learning_rate=2e-5,\n",
    "    per_device_train_batch_size=8,\n",
    "    per_device_eval_batch_size=8,\n",
    "    num_train_epochs=3,\n",
    "    weight_decay=0.01,\n",
    "    logging_dir=f\"{output_dir}/logs\",\n",
    "    logging_steps=10,\n",
    ")"
   ]
  },
  {
   "cell_type": "code",
   "execution_count": 24,
   "id": "8abe1bb5-4a25-4d92-aeae-7c71e045d93b",
   "metadata": {},
   "outputs": [],
   "source": [
    "from sklearn.metrics import (\n",
    "    confusion_matrix,\n",
    "    classification_report,\n",
    "    ConfusionMatrixDisplay,\n",
    "    matthews_corrcoef,\n",
    ")\n",
    "\n",
    "import pandas as pd\n",
    "\n",
    "\n",
    "# Metric Computation\n",
    "def align_predictions(predictions, label_ids):\n",
    "    preds = np.argmax(predictions, axis=2)\n",
    "    batch_size, seq_len = preds.shape\n",
    "    out_preds, out_labels = [], []\n",
    "\n",
    "    for i in range(batch_size):\n",
    "        pred_labels = []\n",
    "        true_labels = []\n",
    "        for j in range(seq_len):\n",
    "            if label_ids[i][j] != -100:\n",
    "                pred_labels.append(id2label[preds[i][j]])\n",
    "                true_labels.append(id2label[label_ids[i][j]])\n",
    "        out_preds.append(pred_labels)\n",
    "        out_labels.append(true_labels)\n",
    "\n",
    "    return out_preds, out_labels\n",
    "\n",
    "\n",
    "from collections import defaultdict\n",
    "from seqeval.metrics import accuracy_score, f1_score, precision_score, recall_score\n",
    "\n",
    "\n",
    "def extract_entities(label_seq):\n",
    "    entities = []\n",
    "    start, end, label = None, None, None\n",
    "    for i, tag in enumerate(label_seq):\n",
    "        if tag.startswith(\"B-\"):\n",
    "            if label is not None:\n",
    "                entities.append((start, end, label))\n",
    "            start = i\n",
    "            end = i + 1\n",
    "            label = tag[2:]\n",
    "        elif tag.startswith(\"I-\") and label == tag[2:]:\n",
    "            end = i + 1\n",
    "        else:\n",
    "            if label is not None:\n",
    "                entities.append((start, end, label))\n",
    "                start, end, label = None, None, None\n",
    "    if label is not None:\n",
    "        entities.append((start, end, label))\n",
    "    return entities\n",
    "\n",
    "\n",
    "def compute_span_matches(pred_spans, true_spans, mode=\"exact\"):\n",
    "    tp, fp, fn = 0, 0, 0\n",
    "    used = set()\n",
    "\n",
    "    for ps in pred_spans:\n",
    "        matched = False\n",
    "        for i, ts in enumerate(true_spans):\n",
    "            if ts[2] != ps[2]:  # labels must match\n",
    "                continue\n",
    "\n",
    "            if mode == \"exact\" and ps == ts:\n",
    "                matched = True\n",
    "                used.add(i)\n",
    "                break\n",
    "\n",
    "            elif mode == \"overlap\":\n",
    "                if max(ps[0], ts[0]) < min(ps[1], ts[1]):\n",
    "                    matched = True\n",
    "                    used.add(i)\n",
    "                    break\n",
    "\n",
    "            elif mode == \"union\":\n",
    "                if ps[0] <= ts[1] and ps[1] >= ts[0]:\n",
    "                    matched = True\n",
    "                    used.add(i)\n",
    "                    break\n",
    "\n",
    "        if matched:\n",
    "            tp += 1\n",
    "        else:\n",
    "            fp += 1\n",
    "\n",
    "    fn = len([ts for i, ts in enumerate(true_spans) if i not in used])\n",
    "    return tp, fp, fn\n",
    "\n",
    "\n",
    "def compute_metrics(p):\n",
    "    predictions, labels = p\n",
    "    preds, refs = align_predictions(predictions, labels)\n",
    "\n",
    "    # Matthews Correlation Coefficient\n",
    "    flat_preds = [p for seq in preds for p in seq]\n",
    "    flat_refs = [r for seq in refs for r in seq]\n",
    "\n",
    "    mcc = matthews_corrcoef(flat_refs, flat_preds)\n",
    "    # print(f'Matthews Correlation Coefficient: {mcc}')\n",
    "\n",
    "    # Confusion Matrix\n",
    "    cm = confusion_matrix(flat_refs, flat_preds)\n",
    "    labels = np.unique(flat_refs)\n",
    "    cm_df = pd.DataFrame(cm, index=labels, columns=labels)\n",
    "\n",
    "    # print(\"Confusion Matrix (per class):\")\n",
    "\n",
    "    # token-level scores\n",
    "    token_accuracy = accuracy_score(refs, preds)\n",
    "    token_precision = precision_score(refs, preds)\n",
    "    token_recall = recall_score(refs, preds)\n",
    "    token_f1 = f1_score(refs, preds)\n",
    "\n",
    "    # span-level scores\n",
    "    exact_tp, exact_fp, exact_fn = 0, 0, 0\n",
    "    overlap_tp, overlap_fp, overlap_fn = 0, 0, 0\n",
    "    union_tp, union_fp, union_fn = 0, 0, 0\n",
    "\n",
    "    for pred_seq, ref_seq in zip(preds, refs):\n",
    "        pred_spans = extract_entities(pred_seq)\n",
    "        ref_spans = extract_entities(ref_seq)\n",
    "\n",
    "        tp, fp, fn = compute_span_matches(pred_spans, ref_spans, mode=\"exact\")\n",
    "        exact_tp += tp\n",
    "        exact_fp += fp\n",
    "        exact_fn += fn\n",
    "\n",
    "        tp, fp, fn = compute_span_matches(pred_spans, ref_spans, mode=\"overlap\")\n",
    "        overlap_tp += tp\n",
    "        overlap_fp += fp\n",
    "        overlap_fn += fn\n",
    "\n",
    "        tp, fp, fn = compute_span_matches(pred_spans, ref_spans, mode=\"union\")\n",
    "        union_tp += tp\n",
    "        union_fp += fp\n",
    "        union_fn += fn\n",
    "\n",
    "    def safe_div(a, b):\n",
    "        return a / b if b else 0.0\n",
    "\n",
    "    def scores(tp, fp, fn):\n",
    "        precision = safe_div(tp, tp + fp)\n",
    "        recall = safe_div(tp, tp + fn)\n",
    "        f1 = (\n",
    "            safe_div(2 * precision * recall, precision + recall)\n",
    "            if (precision + recall)\n",
    "            else 0.0\n",
    "        )\n",
    "        return precision, recall, f1\n",
    "\n",
    "    exact_p, exact_r, exact_f1 = scores(exact_tp, exact_fp, exact_fn)\n",
    "    overlap_p, overlap_r, overlap_f1 = scores(overlap_tp, overlap_fp, overlap_fn)\n",
    "    union_p, union_r, union_f1 = scores(union_tp, union_fp, union_fn)\n",
    "\n",
    "    return {\n",
    "        \"token_accuracy\": token_accuracy,\n",
    "        \"token_precision\": token_precision,\n",
    "        \"token_recall\": token_recall,\n",
    "        \"token_f1\": token_f1,\n",
    "        \"entity_exact_precision\": exact_p,\n",
    "        \"entity_exact_recall\": exact_r,\n",
    "        \"entity_exact_f1\": exact_f1,\n",
    "        \"entity_overlap_precision\": overlap_p,\n",
    "        \"entity_overlap_recall\": overlap_r,\n",
    "        \"entity_overlap_f1\": overlap_f1,\n",
    "        \"entity_union_precision\": union_p,\n",
    "        \"entity_union_recall\": union_r,\n",
    "        \"entity_union_f1\": union_f1,\n",
    "        \"matthews_coefficient\": mcc,\n",
    "    }"
   ]
  },
  {
   "cell_type": "code",
   "execution_count": 25,
   "id": "5fed2991-bfce-4b71-b11e-4fdfcc50a3f1",
   "metadata": {
    "scrolled": true
   },
   "outputs": [
    {
     "name": "stderr",
     "output_type": "stream",
     "text": [
      "/tmp/ipykernel_2766/4158942630.py:2: FutureWarning: `tokenizer` is deprecated and will be removed in version 5.0.0 for `Trainer.__init__`. Use `processing_class` instead.\n",
      "  trainer = Trainer(\n"
     ]
    }
   ],
   "source": [
    "# train the model\n",
    "trainer = Trainer(\n",
    "    model=model,\n",
    "    args=args,\n",
    "    train_dataset=train_dataset,\n",
    "    eval_dataset=test_dataset,\n",
    "    tokenizer=tokenizer,\n",
    "    data_collator=DataCollatorForTokenClassification(tokenizer),\n",
    "    compute_metrics=compute_metrics,\n",
    ")"
   ]
  },
  {
   "cell_type": "code",
   "execution_count": 26,
   "id": "5a3ee2cb-612a-44c2-817b-547d4961f792",
   "metadata": {},
   "outputs": [
    {
     "data": {
      "text/html": [
       "\n",
       "    <div>\n",
       "      \n",
       "      <progress value='939' max='939' style='width:300px; height:20px; vertical-align: middle;'></progress>\n",
       "      [939/939 00:48, Epoch 3/3]\n",
       "    </div>\n",
       "    <table border=\"1\" class=\"dataframe\">\n",
       "  <thead>\n",
       " <tr style=\"text-align: left;\">\n",
       "      <th>Epoch</th>\n",
       "      <th>Training Loss</th>\n",
       "      <th>Validation Loss</th>\n",
       "      <th>Token Accuracy</th>\n",
       "      <th>Token Precision</th>\n",
       "      <th>Token Recall</th>\n",
       "      <th>Token F1</th>\n",
       "      <th>Entity Exact Precision</th>\n",
       "      <th>Entity Exact Recall</th>\n",
       "      <th>Entity Exact F1</th>\n",
       "      <th>Entity Overlap Precision</th>\n",
       "      <th>Entity Overlap Recall</th>\n",
       "      <th>Entity Overlap F1</th>\n",
       "      <th>Entity Union Precision</th>\n",
       "      <th>Entity Union Recall</th>\n",
       "      <th>Entity Union F1</th>\n",
       "      <th>Matthews Coefficient</th>\n",
       "    </tr>\n",
       "  </thead>\n",
       "  <tbody>\n",
       "    <tr>\n",
       "      <td>1</td>\n",
       "      <td>0.006700</td>\n",
       "      <td>0.067261</td>\n",
       "      <td>0.991153</td>\n",
       "      <td>0.891586</td>\n",
       "      <td>0.901063</td>\n",
       "      <td>0.896299</td>\n",
       "      <td>0.906689</td>\n",
       "      <td>0.897792</td>\n",
       "      <td>0.902219</td>\n",
       "      <td>0.933939</td>\n",
       "      <td>0.921010</td>\n",
       "      <td>0.927429</td>\n",
       "      <td>0.938068</td>\n",
       "      <td>0.917609</td>\n",
       "      <td>0.927726</td>\n",
       "      <td>0.954833</td>\n",
       "    </tr>\n",
       "    <tr>\n",
       "      <td>2</td>\n",
       "      <td>0.006700</td>\n",
       "      <td>0.068410</td>\n",
       "      <td>0.991591</td>\n",
       "      <td>0.892196</td>\n",
       "      <td>0.906787</td>\n",
       "      <td>0.899432</td>\n",
       "      <td>0.909992</td>\n",
       "      <td>0.901063</td>\n",
       "      <td>0.905505</td>\n",
       "      <td>0.935590</td>\n",
       "      <td>0.922638</td>\n",
       "      <td>0.929069</td>\n",
       "      <td>0.938068</td>\n",
       "      <td>0.920583</td>\n",
       "      <td>0.929243</td>\n",
       "      <td>0.957140</td>\n",
       "    </tr>\n",
       "    <tr>\n",
       "      <td>3</td>\n",
       "      <td>0.000200</td>\n",
       "      <td>0.071594</td>\n",
       "      <td>0.992073</td>\n",
       "      <td>0.904568</td>\n",
       "      <td>0.906787</td>\n",
       "      <td>0.905676</td>\n",
       "      <td>0.920767</td>\n",
       "      <td>0.902698</td>\n",
       "      <td>0.911643</td>\n",
       "      <td>0.944120</td>\n",
       "      <td>0.921824</td>\n",
       "      <td>0.932839</td>\n",
       "      <td>0.946622</td>\n",
       "      <td>0.919773</td>\n",
       "      <td>0.933005</td>\n",
       "      <td>0.959488</td>\n",
       "    </tr>\n",
       "  </tbody>\n",
       "</table><p>"
      ],
      "text/plain": [
       "<IPython.core.display.HTML object>"
      ]
     },
     "metadata": {},
     "output_type": "display_data"
    },
    {
     "data": {
      "text/html": [],
      "text/plain": [
       "<IPython.core.display.HTML object>"
      ]
     },
     "metadata": {},
     "output_type": "display_data"
    }
   ],
   "source": [
    "trainer.train()\n",
    "\n",
    "# Final Evaluation\n",
    "final_predictions, _, metrics = trainer.predict(test_dataset)\n",
    "# print(\"Final Evaluation Metrics:\", metrics)"
   ]
  },
  {
   "cell_type": "code",
   "execution_count": 28,
   "id": "40d15f1d-1848-4853-b126-c18ee8fceba9",
   "metadata": {},
   "outputs": [
    {
     "data": {
      "text/html": [],
      "text/plain": [
       "<IPython.core.display.HTML object>"
      ]
     },
     "metadata": {},
     "output_type": "display_data"
    },
    {
     "data": {
      "text/html": [],
      "text/plain": [
       "<IPython.core.display.HTML object>"
      ]
     },
     "metadata": {},
     "output_type": "display_data"
    },
    {
     "name": "stdout",
     "output_type": "stream",
     "text": [
      "\n",
      "Evaluation Metrics (Train vs Test):\n",
      "\n",
      "                                  Train      Test\n",
      "test_loss                        0.0003    0.0716\n",
      "test_token_accuracy              1.0000    0.9921\n",
      "test_token_precision             0.9996    0.9046\n",
      "test_token_recall                0.9994    0.9068\n",
      "test_token_f1                    0.9995    0.9057\n",
      "test_entity_exact_precision      0.9996    0.9208\n",
      "test_entity_exact_recall         0.9994    0.9027\n",
      "test_entity_exact_f1             0.9995    0.9116\n",
      "test_entity_overlap_precision    0.9998    0.9441\n",
      "test_entity_overlap_recall       0.9996    0.9218\n",
      "test_entity_overlap_f1           0.9997    0.9328\n",
      "test_entity_union_precision      0.9998    0.9466\n",
      "test_entity_union_recall         0.9983    0.9198\n",
      "test_entity_union_f1             0.9990    0.9330\n",
      "test_matthews_coefficient        0.9999    0.9595\n",
      "test_runtime                     3.8557    0.9947\n",
      "test_samples_per_second        649.1740  648.4490\n",
      "test_steps_per_second           81.1790   81.4330\n"
     ]
    }
   ],
   "source": [
    "# Evaluate on test dataset\n",
    "test_preds, _, test_metrics = trainer.predict(test_dataset)\n",
    "\n",
    "# Evaluate on train dataset\n",
    "train_preds, _, train_metrics = trainer.predict(train_dataset)\n",
    "\n",
    "# Convert to DataFrames\n",
    "test_df = pd.DataFrame([test_metrics], index=[\"Test\"])\n",
    "train_df = pd.DataFrame([train_metrics], index=[\"Train\"])\n",
    "\n",
    "# Combine into a single summary table\n",
    "results_df = pd.concat([train_df, test_df])\n",
    "print(\"\\nEvaluation Metrics (Train vs Test):\\n\")\n",
    "print(results_df.T.round(4))"
   ]
  },
  {
   "cell_type": "code",
   "execution_count": 30,
   "id": "680c73c4-147d-4d10-bd33-79b956314898",
   "metadata": {},
   "outputs": [],
   "source": [
    "results_df.T.to_csv(\"../output/evaluation_metrics_results.csv\", index=True)"
   ]
  },
  {
   "cell_type": "code",
   "execution_count": 33,
   "id": "4ca15ae5-f589-4f01-bdb8-48938bb06d0f",
   "metadata": {},
   "outputs": [
    {
     "data": {
      "image/png": "[encoded data removed]",
      "text/plain": [
       "<Figure size 1200x600 with 1 Axes>"
      ]
     },
     "metadata": {},
     "output_type": "display_data"
    }
   ],
   "source": [
    "# Reformatting data for grouped bar plot\n",
    "metrics = results_df.T[:-3].index.tolist()\n",
    "train_values = results_df.T[\"Train\"][:-3].tolist()\n",
    "test_values = results_df.T[\"Test\"][:-3].tolist()\n",
    "\n",
    "x = range(len(metrics))\n",
    "width = 0.35\n",
    "\n",
    "fig, ax = plt.subplots(figsize=(12, 6))\n",
    "ax.bar([p - width / 2 for p in x], train_values, width, label=\"Train\")\n",
    "ax.bar([p + width / 2 for p in x], test_values, width, label=\"Test\")\n",
    "\n",
    "ax.set_xticks(x)\n",
    "ax.set_xticklabels(metrics, rotation=45, ha=\"right\")\n",
    "ax.set_ylabel(\"Score\")\n",
    "ax.set_title(\"Train vs Test Metrics (Grouped by Metric)\")\n",
    "ax.legend()\n",
    "\n",
    "plt.tight_layout()\n",
    "plt.savefig(\"../output/evaluation_metrics_plot.png\", dpi=600)\n",
    "plt.show()"
   ]
  },
  {
   "cell_type": "code",
   "execution_count": 15,
   "id": "1500a37c-16b7-4523-84fd-67b23a0e9fff",
   "metadata": {},
   "outputs": [
    {
     "data": {
      "text/html": [],
      "text/plain": [
       "<IPython.core.display.HTML object>"
      ]
     },
     "metadata": {},
     "output_type": "display_data"
    },
    {
     "name": "stdout",
     "output_type": "stream",
     "text": [
      "\n",
      "🔍 Misclassified NER Samples:\n",
      "\n",
      "Text: GENERALINIO ADVOKATO DONALD KENNEDY BENJO-LOPEZ IŠVADA, pateikta 2019 m. liepos 11 d. (1)\n",
      "Mismatched Tokens:\n",
      "  Token: EN              | Predicted: B-PROFESSION | True: B-PER\n",
      "  Token: ER              | Predicted: I-PROFESSION | True: I-PER\n",
      "------------------------------------------------------------\n",
      "Text: Consip SpA ,\n",
      "Mismatched Tokens:\n",
      "  Token: ▁Con            | Predicted: I-PER      | True: I-ORG\n",
      "------------------------------------------------------------\n",
      "Text: Ministero dell’Economia e delle Finanze ,\n",
      "Mismatched Tokens:\n",
      "  Token: ▁Min            | Predicted: I-PROFESSION | True: I-ORG\n",
      "  Token: ister           | Predicted: I-PROFESSION | True: I-ORG\n",
      "  Token: o               | Predicted: I-PROFESSION | True: I-ORG\n",
      "  Token: ▁               | Predicted: I-PROFESSION | True: I-ORG\n",
      "------------------------------------------------------------\n",
      "Text: 1. Italijos perkančioji organizacija ( Consip SpA )(2) paskelbė konkursą dėl viešojo tam tikrų paslaugų pirkimo sutarties sudarymo; konkurso dokumentuose numatyta galimybė sutarčiai vykdyti pasitelkti subrangovus. Kad galėtų pasinaudoti šia galimybe, konkurso dalyviai savo pasiūlymuose turėjo nurodyti, kad ketina sudaryti subrangos sutartis dėl dalies šių paslaugų teikimo, taip pat įvardyti tris subrangovus.\n",
      "Mismatched Tokens:\n",
      "  Token: ▁1.             | Predicted: B-ORG      | True: B-LOC\n",
      "------------------------------------------------------------\n",
      "Text: 11. 2016 m. liepos 29 d. Consip paskelbė skelbimą apie „WDM sistemos paslaugų Ekonomikos ir finansų ministerijos Centro elaborazione dati (CED) (Duomenų apdorojimo centras) , GS , DT ir DAG departamentų sąsajai užtikrinti“ pirkimą(6). Numatomos sutarties vertė buvo 1 420 785,60 EUR be PVM.\n",
      "Mismatched Tokens:\n",
      "  Token: D               | Predicted: I-ORG      | True: B-ORG\n",
      "------------------------------------------------------------\n",
      "Text: 13. Tim pateikė savo pasiūlymą, jame nurodė tris subrangovus, kuriuos ketino pasitelkti tuo atveju, jeigu sutartis būtų sudaryta su ja. Priede dėl kiekvieno jų bendrovė pridėjo Europos bendrąjį viešųjų pirkimų dokumentą (EBVPD).\n",
      "Mismatched Tokens:\n",
      "  Token: ▁13             | Predicted: B-PER      | True: B-ORG\n",
      "------------------------------------------------------------\n",
      "Text: 14. Patikrinusi subrangovų situacijas perkančioji organizacija konstatavo, kad vienas iš jų (bendrovė Maticmind, Spa ) nesilaikė teisės normų dėl neįgaliųjų teisės į darbą, kaip matyti iš Milano savivaldybės išduotos 2017 m. balandžio 5 d. pažymos.\n",
      "Mismatched Tokens:\n",
      "  Token: ▁kad            | Predicted: I-ORG      | True: B-ORG\n",
      "  Token: ▁vienas         | Predicted: B-LOC      | True: I-ORG\n",
      "------------------------------------------------------------\n",
      "Text: 15. Taigi, vadovaudamasi CCP 80 straipsnio 5 dalies i punktu, Consip pašalino Tim iš konkurso procedūros.\n",
      "Mismatched Tokens:\n",
      "  Token: ▁dalies         | Predicted: B-PER      | True: B-ORG\n",
      "------------------------------------------------------------\n",
      "Text: 16. Dėl šio sprendimo Tim pateikė skundą prašymą priimti prejudicinį sprendimą pateikusiam teismui; jame iš esmė tvirtinama, kad:\n",
      "Mismatched Tokens:\n",
      "  Token: ▁šio            | Predicted: B-PER      | True: B-ORG\n",
      "------------------------------------------------------------\n",
      "Text: – sutarčiai įvykdyti Tim be kuriuo atveju galėjo pasitelkti kitus du pateiktame pasiūlyme nurodytus subrangovus, kuriems netaikytinas joks pašalinimo pagrindas,\n",
      "Mismatched Tokens:\n",
      "  Token: ▁įvykdyti       | Predicted: B-PER      | True: B-ORG\n",
      "------------------------------------------------------------\n"
     ]
    }
   ],
   "source": [
    "from transformers import BatchEncoding\n",
    "\n",
    "# Step 1: Get predictions and aligned labels\n",
    "predictions, label_ids, _ = trainer.predict(test_dataset)\n",
    "preds, refs = align_predictions(predictions, label_ids)\n",
    "\n",
    "# Step 2: Decode tokens for each example\n",
    "print(\"\\n🔍 Misclassified NER Samples:\\n\")\n",
    "max_display = 10\n",
    "shown = 0\n",
    "\n",
    "for i in range(len(test_dataset)):\n",
    "    # Get input_ids for the current example\n",
    "    input_ids = test_dataset[i][\"input_ids\"]\n",
    "    tokens = tokenizer.convert_ids_to_tokens(input_ids)\n",
    "\n",
    "    # Get aligned predicted and true labels\n",
    "    pred_labels = preds[i]\n",
    "    true_labels = refs[i]\n",
    "\n",
    "    # Filter mismatches (skip padding)\n",
    "    mismatches = [\n",
    "        (tok, pred, true)\n",
    "        for tok, pred, true in zip(tokens, pred_labels, true_labels)\n",
    "        if pred != true and true != \"O\" and tok not in tokenizer.all_special_tokens\n",
    "    ]\n",
    "\n",
    "    if mismatches:\n",
    "        decoded_text = tokenizer.decode(input_ids, skip_special_tokens=True)\n",
    "        print(f\"Text: {decoded_text}\")\n",
    "        print(\"Mismatched Tokens:\")\n",
    "        for tok, pred, true in mismatches:\n",
    "            print(f\"  Token: {tok:15} | Predicted: {pred:10} | True: {true}\")\n",
    "        print(\"-\" * 60)\n",
    "        shown += 1\n",
    "\n",
    "    if shown >= max_display:\n",
    "        break"
   ]
  },
  {
   "cell_type": "code",
   "execution_count": 41,
   "id": "0c3f94c5-e180-46f4-bc82-17a5dd38db2c",
   "metadata": {},
   "outputs": [
    {
     "name": "stdout",
     "output_type": "stream",
     "text": [
      "4.38.0\n",
      "0.15.2\n"
     ]
    }
   ],
   "source": [
    "import transformers, tokenizers\n",
    "\n",
    "print(transformers.__version__)  # should be ≥ 4.39.0\n",
    "print(tokenizers.__version__)  # should be ≥ 0.15.0"
   ]
  },
  {
   "cell_type": "code",
   "execution_count": null,
   "id": "41628f6a-0d65-4e5a-972a-32ee018f4dc2",
   "metadata": {},
   "outputs": [],
   "source": []
  }
 ],
 "metadata": {
  "kernelspec": {
   "display_name": "Python (venv)",
   "language": "python",
   "name": ".blkt_venv"
  },
  "language_info": {
   "codemirror_mode": {
    "name": "ipython",
    "version": 3
   },
   "file_extension": ".py",
   "mimetype": "text/x-python",
   "name": "python",
   "nbconvert_exporter": "python",
   "pygments_lexer": "ipython3",
   "version": "3.11.10"
  }
 },
 "nbformat": 4,
 "nbformat_minor": 5
}
